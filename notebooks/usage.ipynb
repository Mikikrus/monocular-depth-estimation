{
 "cells": [
  {
   "cell_type": "code",
   "execution_count": 38,
   "outputs": [],
   "source": [
    "from src.data.data_module import DepthEstimationDataModule\n",
    "from src.utils import download_dataset\n",
    "from src.models import Unet3Plus\n",
    "from src.train import LightningModel,get_lr_scheduler_kwargs\n",
    "import torchmetrics\n",
    "from dataclasses import dataclass\n",
    "import os\n"
   ],
   "metadata": {
    "collapsed": false,
    "pycharm": {
     "name": "#%%\n"
    }
   }
  },
  {
   "cell_type": "code",
   "execution_count": 39,
   "outputs": [],
   "source": [
    "@dataclass\n",
    "class Config:\n",
    "    data_dir = \"../data\"\n",
    "    batch_size: int = 16\n",
    "    num_workers: int = 2\n",
    "    encoder_name: str = \"maxxvitv2_nano_rw_256.sw_in1k\"\n",
    "    decoder_attention_type: str = \"scse\"\n",
    "    head_activation_name: str = \"sigmoid\"\n",
    "    optimizer: str = \"Adam\"\n",
    "    learning_rate: float = 1e-4\n",
    "    accumulate_grad_batches: int = 1\n",
    "    loss_function_name = \"MeanAbsoluteError\"\n",
    "config = Config()"
   ],
   "metadata": {
    "collapsed": false,
    "pycharm": {
     "name": "#%%\n"
    }
   }
  },
  {
   "cell_type": "code",
   "execution_count": 40,
   "outputs": [],
   "source": [
    "# download_dataset(destination_path=config.data_dir)"
   ],
   "metadata": {
    "collapsed": false,
    "pycharm": {
     "name": "#%%\n"
    }
   }
  },
  {
   "cell_type": "code",
   "execution_count": 41,
   "outputs": [],
   "source": [
    "config.data_dir = os.path.join(config.data_dir,\"data\") #TODO fix zip file in gdrive"
   ],
   "metadata": {
    "collapsed": false,
    "pycharm": {
     "name": "#%%\n"
    }
   }
  },
  {
   "cell_type": "code",
   "execution_count": 42,
   "outputs": [],
   "source": [
    "lr_scheduler_kwargs = get_lr_scheduler_kwargs(data_dir=os.path.join(config.data_dir, \"train\", \"image\"),batch_size=config.batch_size, accumulate_grad_batches=config.accumulate_grad_batches)"
   ],
   "metadata": {
    "collapsed": false,
    "pycharm": {
     "name": "#%%\n"
    }
   }
  },
  {
   "cell_type": "code",
   "execution_count": 43,
   "outputs": [],
   "source": [
    "data_module = DepthEstimationDataModule(data_dir=os.path.join(config.data_dir,\"data\"),batch_size=config.batch_size,num_workers=config.num_workers,transforms=None)"
   ],
   "metadata": {
    "collapsed": false,
    "pycharm": {
     "name": "#%%\n"
    }
   }
  },
  {
   "cell_type": "code",
   "execution_count": 44,
   "outputs": [],
   "source": [
    "model = Unet3Plus(encoder_name=config.encoder_name,classes=1,activation=config.head_activation_name, decoder_attention_type=config.decoder_attention_type)"
   ],
   "metadata": {
    "collapsed": false,
    "pycharm": {
     "name": "#%%\n"
    }
   }
  },
  {
   "cell_type": "code",
   "execution_count": 45,
   "outputs": [],
   "source": [
    "lightning_model = LightningModel(model=model,optimizer=config.optimizer, learning_rate=config.learning_rate,loss=getattr(torchmetrics,config.loss_function_name), lr_scheduler_params=lr_scheduler_kwargs)"
   ],
   "metadata": {
    "collapsed": false,
    "pycharm": {
     "name": "#%%\n"
    }
   }
  }
 ],
 "metadata": {
  "kernelspec": {
   "display_name": "Python 3",
   "language": "python",
   "name": "python3"
  },
  "language_info": {
   "codemirror_mode": {
    "name": "ipython",
    "version": 2
   },
   "file_extension": ".py",
   "mimetype": "text/x-python",
   "name": "python",
   "nbconvert_exporter": "python",
   "pygments_lexer": "ipython2",
   "version": "2.7.6"
  }
 },
 "nbformat": 4,
 "nbformat_minor": 0
}