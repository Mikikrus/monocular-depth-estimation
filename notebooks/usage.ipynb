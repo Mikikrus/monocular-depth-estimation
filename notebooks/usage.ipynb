{
 "cells": [
  {
   "cell_type": "code",
   "execution_count": 2,
   "outputs": [
    {
     "ename": "ModuleNotFoundError",
     "evalue": "No module named 'matplotlib'",
     "output_type": "error",
     "traceback": [
      "\u001B[0;31m---------------------------------------------------------------------------\u001B[0m",
      "\u001B[0;31mModuleNotFoundError\u001B[0m                       Traceback (most recent call last)",
      "Cell \u001B[0;32mIn[2], line 10\u001B[0m\n\u001B[1;32m      8\u001B[0m \u001B[38;5;28;01mfrom\u001B[39;00m \u001B[38;5;21;01msrc\u001B[39;00m\u001B[38;5;21;01m.\u001B[39;00m\u001B[38;5;21;01mdata\u001B[39;00m\u001B[38;5;21;01m.\u001B[39;00m\u001B[38;5;21;01mdata_module\u001B[39;00m \u001B[38;5;28;01mimport\u001B[39;00m DepthEstimationDataModule\n\u001B[1;32m      9\u001B[0m \u001B[38;5;28;01mfrom\u001B[39;00m \u001B[38;5;21;01msrc\u001B[39;00m\u001B[38;5;21;01m.\u001B[39;00m\u001B[38;5;21;01mmodels\u001B[39;00m \u001B[38;5;28;01mimport\u001B[39;00m Unet3Plus\n\u001B[0;32m---> 10\u001B[0m \u001B[38;5;28;01mfrom\u001B[39;00m \u001B[38;5;21;01msrc\u001B[39;00m\u001B[38;5;21;01m.\u001B[39;00m\u001B[38;5;21;01mtrain\u001B[39;00m \u001B[38;5;28;01mimport\u001B[39;00m losses\n\u001B[1;32m     11\u001B[0m \u001B[38;5;28;01mfrom\u001B[39;00m \u001B[38;5;21;01msrc\u001B[39;00m\u001B[38;5;21;01m.\u001B[39;00m\u001B[38;5;21;01mtrain\u001B[39;00m \u001B[38;5;28;01mimport\u001B[39;00m (\n\u001B[1;32m     12\u001B[0m     LightningModel,\n\u001B[1;32m     13\u001B[0m     ModelCheckpoint,\n\u001B[0;32m   (...)\u001B[0m\n\u001B[1;32m     16\u001B[0m     transforms,\n\u001B[1;32m     17\u001B[0m )\n\u001B[1;32m     18\u001B[0m \u001B[38;5;28;01mfrom\u001B[39;00m \u001B[38;5;21;01msrc\u001B[39;00m\u001B[38;5;21;01m.\u001B[39;00m\u001B[38;5;21;01mutils\u001B[39;00m \u001B[38;5;28;01mimport\u001B[39;00m download_dataset\n",
      "File \u001B[0;32m~/monocular-depth-estimation/src/train/__init__.py:1\u001B[0m\n\u001B[0;32m----> 1\u001B[0m \u001B[38;5;28;01mfrom\u001B[39;00m \u001B[38;5;21;01m.\u001B[39;00m\u001B[38;5;21;01mcallbacks\u001B[39;00m \u001B[38;5;28;01mimport\u001B[39;00m ModelCheckpoint, VisualizePrediction\n\u001B[1;32m      2\u001B[0m \u001B[38;5;28;01mfrom\u001B[39;00m \u001B[38;5;21;01m.\u001B[39;00m\u001B[38;5;21;01mlosses\u001B[39;00m \u001B[38;5;28;01mimport\u001B[39;00m L1Loss, FocalLoss\n\u001B[1;32m      3\u001B[0m \u001B[38;5;28;01mfrom\u001B[39;00m \u001B[38;5;21;01m.\u001B[39;00m\u001B[38;5;21;01mtrain\u001B[39;00m \u001B[38;5;28;01mimport\u001B[39;00m LightningModel\n",
      "File \u001B[0;32m~/monocular-depth-estimation/src/train/callbacks.py:4\u001B[0m\n\u001B[1;32m      1\u001B[0m \u001B[38;5;124;03m\"\"\"PyTorch Lightning callbacks. Callbacks are used to perform actions at various events during training and inference.\u001B[39;00m\n\u001B[1;32m      2\u001B[0m \u001B[38;5;124;03mFor example, ModelCheckpoint callback saves the best model based on the validation loss.\"\"\"\u001B[39;00m\n\u001B[1;32m      3\u001B[0m \u001B[38;5;28;01mimport\u001B[39;00m \u001B[38;5;21;01mlightning\u001B[39;00m \u001B[38;5;28;01mas\u001B[39;00m \u001B[38;5;21;01mpl\u001B[39;00m\n\u001B[0;32m----> 4\u001B[0m \u001B[38;5;28;01mimport\u001B[39;00m \u001B[38;5;21;01mmatplotlib\u001B[39;00m\u001B[38;5;21;01m.\u001B[39;00m\u001B[38;5;21;01mpyplot\u001B[39;00m \u001B[38;5;28;01mas\u001B[39;00m \u001B[38;5;21;01mplt\u001B[39;00m\n\u001B[1;32m      5\u001B[0m \u001B[38;5;28;01mimport\u001B[39;00m \u001B[38;5;21;01mtorch\u001B[39;00m\n\u001B[1;32m      6\u001B[0m \u001B[38;5;28;01mfrom\u001B[39;00m \u001B[38;5;21;01mlightning\u001B[39;00m\u001B[38;5;21;01m.\u001B[39;00m\u001B[38;5;21;01mpytorch\u001B[39;00m \u001B[38;5;28;01mimport\u001B[39;00m callbacks\n",
      "\u001B[0;31mModuleNotFoundError\u001B[0m: No module named 'matplotlib'"
     ]
    }
   ],
   "source": [
    "import os\n",
    "from dataclasses import asdict, dataclass\n",
    "\n",
    "from lightning.pytorch import Trainer, callbacks, seed_everything\n",
    "from lightning.pytorch.loggers import WandbLogger\n",
    "\n",
    "from src import DEVICE\n",
    "from src.data.data_module import DepthEstimationDataModule\n",
    "from src.models import Unet3Plus\n",
    "from src.train import losses\n",
    "from src.train import (\n",
    "    LightningModel,\n",
    "    ModelCheckpoint,\n",
    "    VisualizePrediction,\n",
    "    get_lr_scheduler_kwargs,\n",
    "    transforms,\n",
    ")\n",
    "from src.utils import download_dataset\n",
    "\n",
    "seed_everything(42)"
   ],
   "metadata": {
    "collapsed": false,
    "pycharm": {
     "name": "#%%\n"
    }
   }
  },
  {
   "cell_type": "code",
   "execution_count": 47,
   "outputs": [
    {
     "data": {
      "text/plain": "<matplotlib.image.AxesImage at 0x175583a60>"
     },
     "execution_count": 47,
     "metadata": {},
     "output_type": "execute_result"
    },
    {
     "data": {
      "text/plain": "<Figure size 640x480 with 1 Axes>",
      "image/png": "[encoded data removed]"
     },
     "metadata": {},
     "output_type": "display_data"
    }
   ],
   "source": [
    "import torch\n",
    "import numpy as np\n",
    "import matplotlib.pyplot as plt\n",
    "temp = torch.Tensor(np.arange(400).reshape((10,10,4)))\n",
    "mask = torch.Tensor(np.repeat(np.eye(10).reshape(*temp.shape[:2],1),4,axis=-1)).bool()\n",
    "torch.masked_select(temp,mask).reshape(-1,4)\n",
    "plt.imshow(np.load(\"/Users/maciej.filanowicz/monocular-depth-estimation/data/data/val/label/0.npy\"))"
   ],
   "metadata": {
    "collapsed": false,
    "pycharm": {
     "name": "#%%\n"
    }
   }
  },
  {
   "cell_type": "code",
   "execution_count": null,
   "outputs": [],
   "source": [
    "@dataclass\n",
    "class Config:\n",
    "    data_dir = \"../data\"\n",
    "    batch_size: int = 1\n",
    "    classes: int = 19\n",
    "    num_workers: int = os.cpu_count()\n",
    "    encoder_name: str = \"tf_efficientnetv2_m.in21k_ft_in1k\"\n",
    "    decoder_attention_type: str = \"scse\"\n",
    "    head_activation_name: str = \"sigmoid\"\n",
    "    optimizer: str = \"Adam\"\n",
    "    learning_rate: float = 1e-4\n",
    "    accumulate_grad_batches: int = 1\n",
    "    depth_loss_function_name: str = \"L1Loss\"\n",
    "    seg_loss_function_name: str = \"FocalLoss\"\n",
    "    gamma: float = 1.0\n",
    "    alpha: float = 0.5\n",
    "    wandb_project_name: str = \"depth-estimation\"\n",
    "config = Config()"
   ],
   "metadata": {
    "collapsed": false,
    "pycharm": {
     "name": "#%%\n"
    }
   }
  },
  {
   "cell_type": "code",
   "execution_count": null,
   "outputs": [],
   "source": [
    "download_dataset(destination_path=config.data_dir)"
   ],
   "metadata": {
    "collapsed": false,
    "pycharm": {
     "name": "#%%\n"
    }
   }
  },
  {
   "cell_type": "code",
   "execution_count": null,
   "outputs": [],
   "source": [
    "config.data_dir = os.path.join(config.data_dir,\"data\") #TODO fix zip file in gdrive"
   ],
   "metadata": {
    "collapsed": false,
    "pycharm": {
     "name": "#%%\n"
    }
   }
  },
  {
   "cell_type": "code",
   "execution_count": null,
   "outputs": [],
   "source": [
    "data_module = DepthEstimationDataModule(\n",
    "    data_dir=config.data_dir, batch_size=config.batch_size, num_workers=config.num_workers, transforms=transforms\n",
    ")\n",
    "data_module.setup()"
   ],
   "metadata": {
    "collapsed": false,
    "pycharm": {
     "name": "#%%\n"
    }
   }
  },
  {
   "cell_type": "code",
   "execution_count": null,
   "outputs": [],
   "source": [
    "lr_scheduler_kwargs = get_lr_scheduler_kwargs(\n",
    "    data_dir=os.path.join(config.data_dir, \"train\", \"image\"),\n",
    "    batch_size=config.batch_size,\n",
    "    accumulate_grad_batches=config.accumulate_grad_batches,\n",
    ")\n",
    "data_module = DepthEstimationDataModule(\n",
    "    data_dir=config.data_dir, batch_size=config.batch_size, num_workers=config.num_workers, transforms=transforms\n",
    ")\n",
    "data_module.setup()\n",
    "model = Unet3Plus(\n",
    "    encoder_name=config.encoder_name,\n",
    "    classes=config.classes,\n",
    "    activation=config.head_activation_name,\n",
    "    decoder_attention_type=config.decoder_attention_type,\n",
    ")\n",
    "\n",
    "lightning_model = LightningModel(\n",
    "    model=model,\n",
    "    optimizer=config.optimizer,\n",
    "    learning_rate=config.learning_rate,\n",
    "    depth_loss=getattr(losses,config.depth_loss_function_name)(ignore_values=0, reduction=\"sum\"),\n",
    "    segmentation_loss=getattr(losses,config.seg_loss_function_name)(ignore_values=-1,gamma=config.gamma,alpha=config.alpha),\n",
    "    lr_scheduler_params=lr_scheduler_kwargs,\n",
    ")\n",
    "wandb_logger = WandbLogger(project=config.wandb_project_name, config=asdict(config), reinit=True, log_model=\"all\")\n",
    "checkpoint_callback = ModelCheckpoint(\n",
    "    save_top_k=2,\n",
    "    monitor=f\"Validation/{config.depth_loss_function_name}\",\n",
    "    filename=\"{epoch:02d}-{Validation_\" + config.depth_loss_function_name + \":.2f}\",\n",
    ")\n",
    "trainer = Trainer(\n",
    "    accelerator=DEVICE,\n",
    "    logger=wandb_logger,\n",
    "    max_epochs=1,\n",
    "    num_sanity_val_steps=1,\n",
    "    gradient_clip_val=1.0,\n",
    "    log_every_n_steps=1,\n",
    "    accumulate_grad_batches=config.accumulate_grad_batches,\n",
    "    enable_progress_bar=True,\n",
    "    enable_checkpointing=True,\n",
    "    callbacks=[\n",
    "        checkpoint_callback,\n",
    "        callbacks.LearningRateMonitor(logging_interval=\"step\"),\n",
    "        VisualizePrediction()\n",
    "    ],\n",
    ")\n"
   ],
   "metadata": {
    "collapsed": false,
    "pycharm": {
     "name": "#%%\n"
    }
   }
  },
  {
   "cell_type": "code",
   "execution_count": null,
   "outputs": [],
   "source": [
    "trainer.fit(lightning_model, data_module)"
   ],
   "metadata": {
    "collapsed": false,
    "pycharm": {
     "name": "#%%\n"
    }
   }
  }
 ],
 "metadata": {
  "kernelspec": {
   "display_name": "Python 3",
   "language": "python",
   "name": "python3"
  },
  "language_info": {
   "codemirror_mode": {
    "name": "ipython",
    "version": 2
   },
   "file_extension": ".py",
   "mimetype": "text/x-python",
   "name": "python",
   "nbconvert_exporter": "python",
   "pygments_lexer": "ipython2",
   "version": "2.7.6"
  }
 },
 "nbformat": 4,
 "nbformat_minor": 0
}